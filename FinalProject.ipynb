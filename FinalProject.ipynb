{
  "cells": [
    {
      "cell_type": "code",
      "execution_count": 1,
      "metadata": {
        "id": "yIu61FxXgymU"
      },
      "outputs": [],
      "source": [
        "import pandas as pd\n",
        "from sklearn.model_selection import train_test_split\n",
        "from sklearn.preprocessing import StandardScaler, LabelEncoder\n",
        "from sklearn.neighbors import KNeighborsClassifier\n",
        "from sklearn.tree import DecisionTreeClassifier\n",
        "from sklearn.metrics import accuracy_score, precision_recall_fscore_support, confusion_matrix\n",
        "import numpy as np\n",
        "import matplotlib.pyplot as plt\n",
        "import seaborn as sns\n",
        "import streamlit as st\n",
        "\n"
      ]
    },
    {
      "cell_type": "code",
      "execution_count": 2,
      "metadata": {
        "id": "9N2sPIjHg0Ln"
      },
      "outputs": [],
      "source": [
        "df = pd.read_csv('Crop_recommendation.csv')"
      ]
    },
    {
      "cell_type": "code",
      "execution_count": 7,
      "metadata": {
        "colab": {
          "base_uri": "https://localhost:8080/"
        },
        "id": "wcWWibh8hB9I",
        "outputId": "86ec2aee-ba67-45b7-95d0-932fa53e82a0"
      },
      "outputs": [
        {
          "name": "stdout",
          "output_type": "stream",
          "text": [
            "Missing values before handling:\n",
            "N              0\n",
            "P              0\n",
            "K              0\n",
            "temperature    0\n",
            "humidity       0\n",
            "ph             0\n",
            "rainfall       0\n",
            "label          0\n",
            "dtype: int64\n"
          ]
        }
      ],
      "source": [
        "\n",
        "\n",
        "# Handle missing values (if any) - Check for missing values first\n",
        "print(\"Missing values before handling:\")\n",
        "print(df.isnull().sum())\n",
        "\n",
        "# There are no missing values in this dataset, so no action is needed for this specific dataset.\n",
        "# If there were missing values, you might use:\n",
        "# df.fillna(method='ffill', inplace=True) # Example: forward fill\n",
        "# df.dropna(inplace=True) # Example: drop rows with missing values\n",
        "\n",
        "# Encode categorical data (the 'label' column)\n",
        "le = LabelEncoder()\n",
        "df['label'] = le.fit_transform(df['label'])\n",
        "\n",
        "# Separate features and target variable\n",
        "X = df.drop('label', axis=1)\n",
        "y = df['label']\n",
        "\n",
        "# Normalize numerical features\n",
        "scaler = StandardScaler()\n",
        "X_scaled = scaler.fit_transform(X)\n",
        "X_scaled = pd.DataFrame(X_scaled, columns=X.columns)\n",
        "\n",
        "# Split the dataset into training and testing sets\n",
        "X_train, X_test, y_train, y_test = train_test_split(X_scaled, y, test_size=0.2, random_state=42)\n"
      ]
    },
    {
      "cell_type": "code",
      "execution_count": 9,
      "metadata": {
        "colab": {
          "base_uri": "https://localhost:8080/",
          "height": 1000
        },
        "id": "3mgdwRgChJcO",
        "outputId": "75b92842-63d0-4893-c088-6852b749614c"
      },
      "outputs": [
        {
          "name": "stdout",
          "output_type": "stream",
          "text": [
            "Implementing and evaluating K-Nearest Neighbors (KNN)...\n",
            "KNN Accuracy: 0.9568\n",
            "KNN Precision: 0.9629\n",
            "KNN Recall: 0.9568\n",
            "KNN F1-score: 0.9567\n",
            "\n",
            "==================================================\n",
            "\n",
            "Implementing and evaluating Decision Tree Classifier...\n",
            "Decision Tree Accuracy: 0.9864\n",
            "Decision Tree Precision: 0.9868\n",
            "Decision Tree Recall: 0.9864\n",
            "Decision Tree F1-score: 0.9863\n",
            "\n",
            "Model evaluation complete.\n"
          ]
        }
      ],
      "source": [
        "\n",
        "# K-Nearest Neighbors (KNN) Model\n",
        "print(\"Implementing and evaluating K-Nearest Neighbors (KNN)...\")\n",
        "knn_model = KNeighborsClassifier(n_neighbors=5) # You can adjust n_neighbors\n",
        "knn_model.fit(X_train, y_train)\n",
        "y_pred_knn = knn_model.predict(X_test)\n",
        "\n",
        "# Evaluate KNN\n",
        "accuracy_knn = accuracy_score(y_test, y_pred_knn)\n",
        "precision_knn, recall_knn, f1_knn, _ = precision_recall_fscore_support(y_test, y_pred_knn, average='weighted')\n",
        "conf_matrix_knn = confusion_matrix(y_test, y_pred_knn)\n",
        "\n",
        "print(f\"KNN Accuracy: {accuracy_knn:.4f}\")\n",
        "print(f\"KNN Precision: {precision_knn:.4f}\")\n",
        "print(f\"KNN Recall: {recall_knn:.4f}\")\n",
        "print(f\"KNN F1-score: {f1_knn:.4f}\")\n",
        "\n",
        "\n",
        "\n",
        "print(\"\\n\" + \"=\"*50 + \"\\n\")\n",
        "\n",
        "# Decision Tree Classifier Model\n",
        "print(\"Implementing and evaluating Decision Tree Classifier...\")\n",
        "dt_model = DecisionTreeClassifier(random_state=42)\n",
        "dt_model.fit(X_train, y_train)\n",
        "y_pred_dt = dt_model.predict(X_test)\n",
        "\n",
        "# Evaluate Decision Tree\n",
        "accuracy_dt = accuracy_score(y_test, y_pred_dt)\n",
        "precision_dt, recall_dt, f1_dt, _ = precision_recall_fscore_support(y_test, y_pred_dt, average='weighted')\n",
        "conf_matrix_dt = confusion_matrix(y_test, y_pred_dt)\n",
        "\n",
        "print(f\"Decision Tree Accuracy: {accuracy_dt:.4f}\")\n",
        "print(f\"Decision Tree Precision: {precision_dt:.4f}\")\n",
        "print(f\"Decision Tree Recall: {recall_dt:.4f}\")\n",
        "print(f\"Decision Tree F1-score: {f1_dt:.4f}\")\n",
        "\n",
        "\n",
        "\n",
        "print(\"\\nModel evaluation complete.\")\n"
      ]
    },
    {
      "cell_type": "code",
      "execution_count": 14,
      "metadata": {
        "colab": {
          "base_uri": "https://localhost:8080/"
        },
        "id": "-XzNo7NGhXc6",
        "outputId": "8308c6b9-86ed-4272-d4ba-7409da21f8e7"
      },
      "outputs": [],
      "source": [
        "\n",
        "results = {\n",
        "    'Metric': ['Accuracy', 'Precision', 'Recall', 'F1-score'],\n",
        "    'KNN': [accuracy_knn, precision_knn, recall_knn, f1_knn],\n",
        "    'Decision Tree': [accuracy_dt, precision_dt, recall_dt, f1_dt]\n",
        "}\n",
        "results_df = pd.DataFrame(results)\n"
      ]
    }
  ],
  "metadata": {
    "colab": {
      "provenance": []
    },
    "kernelspec": {
      "display_name": "Python 3",
      "name": "python3"
    },
    "language_info": {
      "codemirror_mode": {
        "name": "ipython",
        "version": 3
      },
      "file_extension": ".py",
      "mimetype": "text/x-python",
      "name": "python",
      "nbconvert_exporter": "python",
      "pygments_lexer": "ipython3",
      "version": "3.11.13"
    }
  },
  "nbformat": 4,
  "nbformat_minor": 0
}
